{
 "cells": [
  {
   "cell_type": "markdown",
   "metadata": {},
   "source": [
    "# Vetores Ordenados\n",
    "\n",
    "* Dados organizados em ordem ascendente de valor-chave, sendo o menor valor no índice 0 e as celulas sequentes sendo maior que a sua anterior e menor que sua posterior, Ex.: [1] - [2] - [4] - [5] - [8] - [ ] - [ ];\n",
    "\n",
    "* **Vantagem**: agilizar tempo de pesquisa;\n",
    "\n",
    "* **Métodos de um Vetor Ordenado:**\n",
    "    - *Inserção:* adicionar um elemento ao vetor, Ex.: [3] -> [1] - [2] - [4] - [5] - [ ] - [ ];\n",
    "        1) Validar em qual posição o elemento deverá ficar no vetor:\n",
    "            - posição 0: [3] > [1] = V;\n",
    "            - posição 1: [3] > [2] = V;\n",
    "            - posição 2: [3] > [4] = F;\n",
    "        2) Mover os elementos do vetor afim de abrir o espaço da posição em que o elemento devá ficar:\n",
    "            - [1] - [2] - [4] - [ ] - [5] - [ ]\n",
    "            - [1] - [2] - [ ] - [4] - [5] - [ ]\n",
    "        3) Realizar a inserção do elemento no vetor:\n",
    "            - [1] - [2] - [3] - [4] - [5] - [ ]\n",
    "    - *Pesquisa Linear:* Buscar um elemento dentro do vetor;\n",
    "        - Pesquisa finaliza quando o primeiro elemento maior que o item de pesquisa for encontrado;\n",
    "        - Por conta do vetor estar ordenado, o algoritmo não irá buscar além do necessário;\n",
    "        - Pior dos casos acontecerá se o elemento estiver na última possíção ou não pertencer ao vetor;\n",
    "    - *Exclusão:* remover um elemento do vetor, Ex.: [4] <- [1] - [2] - [4] - [5] - [8] - [ ];\n",
    "        1) Realizar uma pesquisa linear afim de encontrar o elemento, caso não seja encontrado o item o processo finaliza no meio do caminho;\n",
    "        2) Remover o item da lista:\n",
    "            - [1] - [2] - [ ] - [5] - [8] - [ ];\n",
    "        3) Remanejar os elementos para que não haja espaços vazios no interior do vetor:\n",
    "            - [1] - [2] - [5] - [ ] - [8] - [ ]\n",
    "            - [1] - [2] - [5] - [8] - [ ] - [ ]\n",
    "* Visualização Online: \n",
    "    - https://www.cs.usfca.edu/~galles/visualization/Search.html"
   ]
  },
  {
   "cell_type": "markdown",
   "metadata": {},
   "source": [
    "# Criando a classe do Vetor Ordenado"
   ]
  },
  {
   "cell_type": "code",
   "execution_count": 7,
   "metadata": {},
   "outputs": [],
   "source": [
    "import numpy as np\n",
    "\n",
    "\n",
    "class VetorOrdenado:\n",
    "    def __init__(self, capacidade):\n",
    "        self.capacidade = capacidade\n",
    "        self.ultima_posicao = -1\n",
    "        self.valores = np.empty(self.capacidade, dtype=int)\n",
    "\n",
    "    def mostrar_vetor(self):\n",
    "        if self.ultima_posicao == -1:\n",
    "            print('Vetor Vazio')\n",
    "        else:\n",
    "            for i in range(self.ultima_posicao + 1):\n",
    "                print(f'{i + 1}º - {self.valores[i]}')\n",
    "\n",
    "    def adicionar_valor_vetor(self, valor):\n",
    "        if self.ultima_posicao == self.capacidade - 1:\n",
    "            print('Capacidade máxima alcançada.')\n",
    "        else:\n",
    "            posicao = 0\n",
    "            for i in range(self.ultima_posicao + 1):\n",
    "                posicao = i\n",
    "                if self.valores[i] > valor:\n",
    "                    break\n",
    "                if i == self.ultima_posicao:\n",
    "                    posicao = i + 1\n",
    "\n",
    "            x = self.ultima_posicao\n",
    "            while x >= posicao:\n",
    "                self.valores[x + 1] = self.valores[x]\n",
    "                x -= 1\n",
    "\n",
    "            self.valores[posicao] = valor\n",
    "            self.ultima_posicao += 1"
   ]
  },
  {
   "cell_type": "markdown",
   "metadata": {},
   "source": [
    "# Testando a classe do Vetor Ordenado"
   ]
  },
  {
   "cell_type": "code",
   "execution_count": 8,
   "metadata": {},
   "outputs": [
    {
     "name": "stdout",
     "output_type": "stream",
     "text": [
      "------\n",
      "1º - 6\n",
      "------\n",
      "1º - 3\n",
      "2º - 6\n",
      "------\n",
      "1º - 3\n",
      "2º - 4\n",
      "3º - 6\n",
      "------\n",
      "1º - 3\n",
      "2º - 4\n",
      "3º - 6\n",
      "4º - 8\n",
      "------\n",
      "1º - 0\n",
      "2º - 3\n",
      "3º - 4\n",
      "4º - 6\n",
      "5º - 8\n",
      "------\n"
     ]
    }
   ],
   "source": [
    "vetor = VetorOrdenado(5)\n",
    "lista_valores = [6, 3, 4, 8, 0]\n",
    "for num in lista_valores:\n",
    "    vetor.adicionar_valor_vetor(num)\n",
    "    print('------')\n",
    "    vetor.mostrar_vetor()\n",
    "print('------')"
   ]
  }
 ],
 "metadata": {
  "kernelspec": {
   "display_name": "Python 3.8.8 64-bit",
   "language": "python",
   "name": "python3"
  },
  "language_info": {
   "codemirror_mode": {
    "name": "ipython",
    "version": 3
   },
   "file_extension": ".py",
   "mimetype": "text/x-python",
   "name": "python",
   "nbconvert_exporter": "python",
   "pygments_lexer": "ipython3",
   "version": "3.8.8"
  },
  "orig_nbformat": 4,
  "vscode": {
   "interpreter": {
    "hash": "723d4b7bc280cd31fdada53ad6420192b9a3a8d60631096143cc718cb9440dc1"
   }
  }
 },
 "nbformat": 4,
 "nbformat_minor": 2
}
