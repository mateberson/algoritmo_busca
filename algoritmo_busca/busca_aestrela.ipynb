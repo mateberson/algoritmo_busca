{
 "cells": [
  {
   "cell_type": "markdown",
   "metadata": {},
   "source": [
    "# Premissa\n",
    "\n",
    "Esta aplicação fará do algoritmo Busca A* para buscar o melhor percurso para sair da cidade de Arab e chegar até a cidade de Bucareste.\n",
    "\n",
    "\n",
    "![alternative text](./map.png)"
   ]
  },
  {
   "cell_type": "markdown",
   "metadata": {},
   "source": [
    "# Adjacente"
   ]
  },
  {
   "cell_type": "code",
   "execution_count": 1,
   "metadata": {},
   "outputs": [],
   "source": [
    "class Adjacente:\n",
    "    '''\n",
    "    Classe responsável por fazer a conexão entre as cidades\n",
    "    '''\n",
    "    def __init__(self, vertice, custo):\n",
    "        self.vertice = vertice\n",
    "        self.custo = custo\n",
    "        self.distancia_aestrela = self.vertice.distancia_objetivo + self.custo"
   ]
  },
  {
   "cell_type": "markdown",
   "metadata": {},
   "source": [
    "# Vertice"
   ]
  },
  {
   "cell_type": "code",
   "execution_count": 2,
   "metadata": {},
   "outputs": [],
   "source": [
    "class Vertice:\n",
    "    '''\n",
    "    Classe responsável por criar as cidades do estudo\n",
    "    '''\n",
    "    def __init__(self, rotulo, distancia_objetivo):\n",
    "        self.rotulo = rotulo\n",
    "        self.distancia_objetivo = distancia_objetivo\n",
    "        self.visitado = False\n",
    "        self.adjacentes = []\n",
    "\n",
    "    def adiciona_adjacentes(self, adjacente):\n",
    "        self.adjacentes.append(adjacente)\n",
    "\n",
    "    def mostra_adjacentes(self):\n",
    "        for i in self.adjacentes:\n",
    "            print(f'{i.vertice.rotulo}: {i.custo}')"
   ]
  },
  {
   "cell_type": "markdown",
   "metadata": {},
   "source": [
    "# Vetor Ordenado"
   ]
  },
  {
   "cell_type": "code",
   "execution_count": 3,
   "metadata": {},
   "outputs": [],
   "source": [
    "import numpy as np\n",
    "class VetorOrdenado:\n",
    "    '''\n",
    "    Classe é responsável por criar um Vetor de ordenação de valores\n",
    "    '''\n",
    "    def __init__(self, capacidade):\n",
    "        self.capacidade = capacidade\n",
    "        self.ultima_posicao = -1\n",
    "        self.valores = np.empty(self.capacidade, dtype=object)\n",
    "\n",
    "    def mostrar_vetor(self):\n",
    "        if self.ultima_posicao == -1:\n",
    "            print('Vetor Vazio')\n",
    "        else:\n",
    "            for i in range(self.ultima_posicao + 1):\n",
    "                print('{} - {} - {} - {} - {}'.format(\n",
    "                    i,\n",
    "                    self.valores[i].vertice.rotulo,\n",
    "                    self.valores[i].custo,\n",
    "                    self.valores[i].vertice.distancia_objetivo,\n",
    "                    self.valores[i].distancia_aestrela\n",
    "                ))\n",
    "\n",
    "    def adicionar_valor_vetor(self, adjacente):\n",
    "        if self.ultima_posicao == self.capacidade - 1:\n",
    "            print('Capacidade máxima alcançada.')\n",
    "        else:\n",
    "            posicao = 0\n",
    "            for i in range(self.ultima_posicao + 1):\n",
    "                posicao = i\n",
    "                if self.valores[i].distancia_aestrela > adjacente.distancia_aestrela:\n",
    "                    break\n",
    "                if i == self.ultima_posicao:\n",
    "                    posicao = i + 1\n",
    "\n",
    "            x = self.ultima_posicao\n",
    "            while x >= posicao:\n",
    "                self.valores[x + 1] = self.valores[x]\n",
    "                x -= 1\n",
    "\n",
    "            self.valores[posicao] = adjacente\n",
    "            self.ultima_posicao += 1"
   ]
  },
  {
   "cell_type": "markdown",
   "metadata": {},
   "source": [
    "# Grafo"
   ]
  },
  {
   "cell_type": "code",
   "execution_count": 4,
   "metadata": {},
   "outputs": [],
   "source": [
    "class Grafo:\n",
    "    '''\n",
    "    Classe responsável por criar o mapa para o estudo\n",
    "    '''\n",
    "    arad = Vertice('arad', 366)\n",
    "    zerind = Vertice('zerind', 374)\n",
    "    oradea = Vertice('oradea', 380)\n",
    "    sibiu = Vertice('sibiu', 253)\n",
    "    timisoara = Vertice('timisoara', 329)\n",
    "    lugoj = Vertice('lugoj', 244)\n",
    "    mehadia = Vertice('mehadia', 241)\n",
    "    dobreta = Vertice('dobreta', 242)\n",
    "    craiova = Vertice('craiova', 160)\n",
    "    rimnicu = Vertice('rimnicu', 193)\n",
    "    fagaras = Vertice('fagaras', 178)\n",
    "    pitesti = Vertice('pitesti', 98)\n",
    "    bucharest = Vertice('bucharest', 0)\n",
    "    giurgiu = Vertice('giurgiu', 77)\n",
    "    arad.adiciona_adjacentes(Adjacente(sibiu, 140))\n",
    "    arad.adiciona_adjacentes(Adjacente(timisoara, 118))\n",
    "    arad.adiciona_adjacentes(Adjacente(zerind, 75))\n",
    "    zerind.adiciona_adjacentes(Adjacente(arad, 75))\n",
    "    zerind.adiciona_adjacentes(Adjacente(oradea, 71))\n",
    "    oradea.adiciona_adjacentes(Adjacente(zerind, 71))\n",
    "    oradea.adiciona_adjacentes(Adjacente(sibiu, 151))\n",
    "    sibiu.adiciona_adjacentes(Adjacente(oradea, 151))\n",
    "    sibiu.adiciona_adjacentes(Adjacente(arad, 140))\n",
    "    sibiu.adiciona_adjacentes(Adjacente(fagaras, 211))\n",
    "    sibiu.adiciona_adjacentes(Adjacente(rimnicu, 80))\n",
    "    fagaras.adiciona_adjacentes(Adjacente(sibiu, 99))\n",
    "    fagaras.adiciona_adjacentes(Adjacente(bucharest, 211))\n",
    "    timisoara.adiciona_adjacentes(Adjacente(arad, 118))\n",
    "    timisoara.adiciona_adjacentes(Adjacente(lugoj, 111))\n",
    "    lugoj.adiciona_adjacentes(Adjacente(timisoara, 111))\n",
    "    lugoj.adiciona_adjacentes(Adjacente(mehadia, 70))\n",
    "    mehadia.adiciona_adjacentes(Adjacente(lugoj, 70))\n",
    "    mehadia.adiciona_adjacentes(Adjacente(dobreta, 75))\n",
    "    dobreta.adiciona_adjacentes(Adjacente(mehadia, 75))\n",
    "    dobreta.adiciona_adjacentes(Adjacente(craiova, 120))\n",
    "    craiova.adiciona_adjacentes(Adjacente(dobreta, 120))\n",
    "    craiova.adiciona_adjacentes(Adjacente(rimnicu, 146))\n",
    "    craiova.adiciona_adjacentes(Adjacente(pitesti, 138))\n",
    "    rimnicu.adiciona_adjacentes(Adjacente(craiova, 146))\n",
    "    rimnicu.adiciona_adjacentes(Adjacente(pitesti, 97))\n",
    "    rimnicu.adiciona_adjacentes(Adjacente(sibiu, 80))\n",
    "    pitesti.adiciona_adjacentes(Adjacente(craiova, 138))\n",
    "    pitesti.adiciona_adjacentes(Adjacente(rimnicu, 97))\n",
    "    pitesti.adiciona_adjacentes(Adjacente(bucharest, 101))\n",
    "    bucharest.adiciona_adjacentes(Adjacente(fagaras, 211))\n",
    "    bucharest.adiciona_adjacentes(Adjacente(pitesti, 101))\n",
    "    bucharest.adiciona_adjacentes(Adjacente(giurgiu, 90))\n",
    "    giurgiu.adiciona_adjacentes(Adjacente(bucharest, 90))\n",
    "\n",
    "grafo = Grafo()"
   ]
  },
  {
   "cell_type": "markdown",
   "metadata": {},
   "source": [
    "# Busca A*"
   ]
  },
  {
   "cell_type": "code",
   "execution_count": 5,
   "metadata": {},
   "outputs": [],
   "source": [
    "class AEstrela:\n",
    "    def __init__(self, objetivo: Vertice):\n",
    "        self.objetivo = objetivo\n",
    "        self.encontrado = False\n",
    "\n",
    "    def buscar(self, atual:Vertice):\n",
    "        print('--------------')\n",
    "        print(f'Atual: {atual.rotulo}')\n",
    "        atual.visitado = True\n",
    "\n",
    "        if atual == self.objetivo:\n",
    "            self.encontrado = True\n",
    "        else:\n",
    "            vetor_ordenado = VetorOrdenado((len(atual.adjacentes)))\n",
    "            for adjacente in atual.adjacentes:\n",
    "                if not adjacente.vertice.visitado:\n",
    "                    adjacente.vertice.visitado = True\n",
    "                    vetor_ordenado.adicionar_valor_vetor(adjacente)\n",
    "            vetor_ordenado.mostrar_vetor()\n",
    "            \n",
    "            if vetor_ordenado.valores[0] != None:\n",
    "                self.buscar(vetor_ordenado.valores[0].vertice)"
   ]
  },
  {
   "cell_type": "markdown",
   "metadata": {},
   "source": [
    "## Testando Busca A*"
   ]
  },
  {
   "cell_type": "code",
   "execution_count": 6,
   "metadata": {},
   "outputs": [
    {
     "name": "stdout",
     "output_type": "stream",
     "text": [
      "--------------\n",
      "Atual: arad\n",
      "0 - sibiu - 140 - 253 - 393\n",
      "1 - timisoara - 118 - 329 - 447\n",
      "2 - zerind - 75 - 374 - 449\n",
      "--------------\n",
      "Atual: sibiu\n",
      "0 - rimnicu - 80 - 193 - 273\n",
      "1 - fagaras - 211 - 178 - 389\n",
      "2 - oradea - 151 - 380 - 531\n",
      "--------------\n",
      "Atual: rimnicu\n",
      "0 - pitesti - 97 - 98 - 195\n",
      "1 - craiova - 146 - 160 - 306\n",
      "--------------\n",
      "Atual: pitesti\n",
      "0 - bucharest - 101 - 0 - 101\n",
      "--------------\n",
      "Atual: bucharest\n"
     ]
    }
   ],
   "source": [
    "busca_aestrela = AEstrela(grafo.bucharest)\n",
    "busca_aestrela.buscar(grafo.arad)"
   ]
  }
 ],
 "metadata": {
  "kernelspec": {
   "display_name": "Python 3.8.8 64-bit",
   "language": "python",
   "name": "python3"
  },
  "language_info": {
   "codemirror_mode": {
    "name": "ipython",
    "version": 3
   },
   "file_extension": ".py",
   "mimetype": "text/x-python",
   "name": "python",
   "nbconvert_exporter": "python",
   "pygments_lexer": "ipython3",
   "version": "3.8.8"
  },
  "orig_nbformat": 4,
  "vscode": {
   "interpreter": {
    "hash": "723d4b7bc280cd31fdada53ad6420192b9a3a8d60631096143cc718cb9440dc1"
   }
  }
 },
 "nbformat": 4,
 "nbformat_minor": 2
}
