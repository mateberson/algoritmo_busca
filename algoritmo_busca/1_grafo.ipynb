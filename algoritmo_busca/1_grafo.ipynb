{
 "cells": [
  {
   "cell_type": "markdown",
   "metadata": {},
   "source": [
    "# Premissa\n",
    "\n",
    "## Desvendando a Problemática\n",
    "\n",
    "![alternative text](./map.png)\n",
    "\n",
    "1) Estado inicial: cidade de Arad;\n",
    "2) Estado final: cidade de Bucharest;\n",
    "3) Espaço de estados: todas as possíveis caminhos entre Arad e Bucharest, ex.:\n",
    "> * Arad >> Zerind    >> Oradea         >> Sibiu   >> Fagaras >> Bucharest;\n",
    "> * Arad >> Sibiu     >> Rimnicu Vilcea >> Craiova >> Pitesti >> Bucharest;\n",
    "> * Arad >> Timisoara >> Lugoj          >> Mehadia >> Dobreta >> Craiova   >> Pitesti >> Bucharest;\n",
    "4) Ações de passagem: ir de uma cidade até outra, ex.:\n",
    "> * Arad >> Zerind;\n",
    "> * Rimnicu Vilcea >> Craiova;\n",
    "> * Pitesti >> Bucharest;\n",
    "5) Solução: processamento dos caminhos buscando encontrar o caminho mais curto;"
   ]
  },
  {
   "cell_type": "markdown",
   "metadata": {},
   "source": [
    "# Vertice"
   ]
  },
  {
   "cell_type": "code",
   "execution_count": 1,
   "metadata": {},
   "outputs": [],
   "source": [
    "class Vertice:\n",
    "    '''\n",
    "    Classe responsável por criar as cidades do estudo\n",
    "    '''\n",
    "    def __init__(self, rotulo, distancia_objetivo):\n",
    "        self.rotulo = rotulo\n",
    "        self.distancia_objetivo = distancia_objetivo\n",
    "        self.visitado = False\n",
    "        self.adjacentes = []\n",
    "\n",
    "    def adiciona_adjacentes(self, adjacente):\n",
    "        self.adjacentes.append(adjacente)\n",
    "\n",
    "    def mostra_adjacentes(self):\n",
    "        for i in self.adjacentes:\n",
    "            print(f'{i.vertice.rotulo}: {i.custo}')"
   ]
  },
  {
   "cell_type": "markdown",
   "metadata": {},
   "source": [
    "# Vetor Ordenado"
   ]
  },
  {
   "cell_type": "code",
   "execution_count": 2,
   "metadata": {},
   "outputs": [],
   "source": [
    "import numpy as np\n",
    "\n",
    "\n",
    "class VetorOrdenado:\n",
    "    '''\n",
    "    Classe responsável por criar um vetor de ordenação de valores focado na distancia_objetivo dos vertices\n",
    "    '''\n",
    "    def __init__(self, capacidade):\n",
    "        self.capacidade = capacidade\n",
    "        self.ultima_posicao = -1\n",
    "        self.valores = np.empty(self.capacidade, dtype=Vertice)\n",
    "\n",
    "    def mostrar_vetor(self):\n",
    "        if self.ultima_posicao == -1:\n",
    "            print('Vetor Vazio')\n",
    "        else:\n",
    "            for i in range(self.ultima_posicao + 1):\n",
    "                print(f'{i} - {self.valores[i].rotulo} - {self.valores[i].distancia_objetivo}')\n",
    "\n",
    "    def adicionar_valor_vetor(self, vertice):\n",
    "        if self.ultima_posicao == self.capacidade - 1:\n",
    "            print('Capacidade máxima alcançada.')\n",
    "        else:\n",
    "            posicao = 0\n",
    "            for i in range(self.ultima_posicao + 1):\n",
    "                posicao = i\n",
    "                if self.valores[i].distancia_objetivo > vertice.distancia_objetivo:\n",
    "                    break\n",
    "                if i == self.ultima_posicao:\n",
    "                    posicao = i + 1\n",
    "\n",
    "            x = self.ultima_posicao\n",
    "            while x >= posicao:\n",
    "                self.valores[x + 1] = self.valores[x]\n",
    "                x -= 1\n",
    "\n",
    "            self.valores[posicao] = vertice\n",
    "            self.ultima_posicao += 1"
   ]
  },
  {
   "cell_type": "markdown",
   "metadata": {},
   "source": [
    "# Grafo"
   ]
  },
  {
   "cell_type": "code",
   "execution_count": 3,
   "metadata": {},
   "outputs": [],
   "source": [
    "class Grafo:\n",
    "    '''\n",
    "    Classe responsável por criar o mapa para o estudo\n",
    "    '''\n",
    "    arad = Vertice('arad', 366)\n",
    "    zerind = Vertice('zerind', 374)\n",
    "    oradea = Vertice('oradea', 380)\n",
    "    sibiu = Vertice('sibiu', 253)\n",
    "    timisoara = Vertice('timisoara', 329)\n",
    "    lugoj = Vertice('lugoj', 244)\n",
    "    mehadia = Vertice('mehadia', 241)\n",
    "    dobreta = Vertice('dobreta', 242)\n",
    "    craiova = Vertice('craiova', 160)\n",
    "    rimnicu = Vertice('rimnicu', 193)\n",
    "    fagaras = Vertice('fagaras', 178)\n",
    "    pitesti = Vertice('pitesti', 98)\n",
    "    bucharest = Vertice('bucharest', 0)\n",
    "    giurgiu = Vertice('giurgiu', 77)\n",
    "    arad.adiciona_adjacentes(sibiu)\n",
    "    arad.adiciona_adjacentes(timisoara)\n",
    "    arad.adiciona_adjacentes(zerind)\n",
    "    zerind.adiciona_adjacentes(arad)\n",
    "    zerind.adiciona_adjacentes(oradea)\n",
    "    oradea.adiciona_adjacentes(zerind)\n",
    "    oradea.adiciona_adjacentes(sibiu)\n",
    "    sibiu.adiciona_adjacentes(oradea)\n",
    "    sibiu.adiciona_adjacentes(arad)\n",
    "    sibiu.adiciona_adjacentes(fagaras)\n",
    "    sibiu.adiciona_adjacentes(rimnicu)\n",
    "    fagaras.adiciona_adjacentes(sibiu)\n",
    "    fagaras.adiciona_adjacentes(bucharest)\n",
    "    timisoara.adiciona_adjacentes(arad)\n",
    "    timisoara.adiciona_adjacentes(lugoj)\n",
    "    lugoj.adiciona_adjacentes(timisoara)\n",
    "    lugoj.adiciona_adjacentes(mehadia)\n",
    "    mehadia.adiciona_adjacentes(lugoj)\n",
    "    mehadia.adiciona_adjacentes(dobreta)\n",
    "    dobreta.adiciona_adjacentes(mehadia)\n",
    "    dobreta.adiciona_adjacentes(craiova)\n",
    "    craiova.adiciona_adjacentes(dobreta)\n",
    "    craiova.adiciona_adjacentes(rimnicu)\n",
    "    craiova.adiciona_adjacentes(pitesti)\n",
    "    rimnicu.adiciona_adjacentes(craiova)\n",
    "    rimnicu.adiciona_adjacentes(pitesti)\n",
    "    rimnicu.adiciona_adjacentes(sibiu)\n",
    "    pitesti.adiciona_adjacentes(craiova)\n",
    "    pitesti.adiciona_adjacentes(rimnicu)\n",
    "    pitesti.adiciona_adjacentes(bucharest)\n",
    "    bucharest.adiciona_adjacentes(fagaras)\n",
    "    bucharest.adiciona_adjacentes(pitesti)\n",
    "    bucharest.adiciona_adjacentes(giurgiu)\n",
    "    giurgiu.adiciona_adjacentes(bucharest)"
   ]
  },
  {
   "cell_type": "markdown",
   "metadata": {},
   "source": [
    "## Testando Grafo"
   ]
  },
  {
   "cell_type": "code",
   "execution_count": 4,
   "metadata": {},
   "outputs": [],
   "source": [
    "grafo = Grafo()\n",
    "vetor = VetorOrdenado(5)\n",
    "vetor.adicionar_valor_vetor(grafo.arad)\n",
    "vetor.adicionar_valor_vetor(grafo.craiova)\n",
    "vetor.adicionar_valor_vetor(grafo.bucharest)\n",
    "vetor.adicionar_valor_vetor(grafo.dobreta)"
   ]
  },
  {
   "cell_type": "code",
   "execution_count": 5,
   "metadata": {},
   "outputs": [
    {
     "name": "stdout",
     "output_type": "stream",
     "text": [
      "0 - bucharest - 0\n",
      "1 - craiova - 160\n",
      "2 - dobreta - 242\n",
      "3 - arad - 366\n"
     ]
    }
   ],
   "source": [
    "vetor.mostrar_vetor()"
   ]
  },
  {
   "cell_type": "code",
   "execution_count": 6,
   "metadata": {},
   "outputs": [
    {
     "name": "stdout",
     "output_type": "stream",
     "text": [
      "0 - bucharest - 0\n",
      "1 - craiova - 160\n",
      "2 - dobreta - 242\n",
      "3 - lugoj - 244\n",
      "4 - arad - 366\n"
     ]
    }
   ],
   "source": [
    "vetor.adicionar_valor_vetor(grafo.lugoj)\n",
    "vetor.mostrar_vetor()"
   ]
  }
 ],
 "metadata": {
  "kernelspec": {
   "display_name": "Python 3.8.8 64-bit",
   "language": "python",
   "name": "python3"
  },
  "language_info": {
   "codemirror_mode": {
    "name": "ipython",
    "version": 3
   },
   "file_extension": ".py",
   "mimetype": "text/x-python",
   "name": "python",
   "nbconvert_exporter": "python",
   "pygments_lexer": "ipython3",
   "version": "3.8.8"
  },
  "orig_nbformat": 4,
  "vscode": {
   "interpreter": {
    "hash": "723d4b7bc280cd31fdada53ad6420192b9a3a8d60631096143cc718cb9440dc1"
   }
  }
 },
 "nbformat": 4,
 "nbformat_minor": 2
}
