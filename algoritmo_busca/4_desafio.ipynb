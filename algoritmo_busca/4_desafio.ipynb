{
 "cells": [
  {
   "cell_type": "markdown",
   "metadata": {},
   "source": [
    "# Premissa\n",
    "\n",
    "Este desafio visa aplicar os modelos construídos anteriormente em um novo mapa com a finalidade de encontrar um caminho mais curto.\n",
    "\n",
    "## Desvendando a Problemática\n",
    "\n",
    "### Mapa do Desafio\n",
    "![alternative text](./mapa_desafio.png)\n",
    "\n",
    "### Distância em Linha Reta\n",
    "![alternative text](./distancia_linha_reta.png)\n",
    "\n",
    "1) Estado inicial: cidade de Porto União;\n",
    "2) Estado final: cidade de Curitiba;\n",
    "3) Espaço de estados: todas as possíveis caminhos entre Porto União e Curitiba, ex.:\n",
    "> * Porto União >> São Mateus >> Lapa >> Contenda >> Araucária >> Curitiba;\n",
    "> * Porto União >> Canoinhas >> Mafra >> Tijucas do Sul >> São José dos Pinhais >> Curitiba;\n",
    "> * Porto União >> Paulo Frontin >> Irati >> Palmeira >> Campo Largo >> Balsa Nova >> Curitiba;\n",
    "4) Ações de passagem: ir de uma cidade até outra, ex.:\n",
    "> * Porto União >> São Mateus;\n",
    "> * Palmeira >> Campo Largo;\n",
    "> * Lapa >> Contenda;\n",
    "5) Solução: processamento dos caminhos buscando encontrar a distância mais curta;\n"
   ]
  },
  {
   "cell_type": "markdown",
   "metadata": {},
   "source": [
    "# Imports"
   ]
  },
  {
   "cell_type": "code",
   "execution_count": 1,
   "metadata": {},
   "outputs": [],
   "source": [
    "import json\n",
    "from typing import List\n",
    "\n",
    "import numpy as np\n",
    "from module import Mapa, CidadeAdjacente"
   ]
  },
  {
   "cell_type": "markdown",
   "metadata": {},
   "source": [
    "# Vértice\n",
    "\n",
    "Para o desenvolvimento deste desafio, será mantido a classe de Vértice construída nos arquivos anteriores;"
   ]
  },
  {
   "cell_type": "code",
   "execution_count": 2,
   "metadata": {},
   "outputs": [],
   "source": [
    "class Vertice:\n",
    "    '''\n",
    "    Classe responsável por criar as cidades\n",
    "    '''\n",
    "    def __init__(self, rotulo, distancia_objetivo):\n",
    "        self.rotulo = rotulo\n",
    "        self.distancia_objetivo = distancia_objetivo\n",
    "        self.visitado = False\n",
    "        self.adjacentes = []\n",
    "\n",
    "    def adiciona_adjacentes(self, adjacente):\n",
    "        self.adjacentes.append(adjacente)\n",
    "\n",
    "    def mostra_adjacentes(self):\n",
    "        for i in self.adjacentes:\n",
    "            print(f'{i.vertice.rotulo}: {i.custo}')"
   ]
  },
  {
   "cell_type": "markdown",
   "metadata": {},
   "source": [
    "# Adjacente\n",
    "\n",
    "O mesmo se aplica a classe adjacente que será reaproveitada dos arquivos anteriores, no caso desta classe optou-se por fazer uso da versão implementada no arquivo aestrela, visto que esta é a versão mais completa"
   ]
  },
  {
   "cell_type": "code",
   "execution_count": 3,
   "metadata": {},
   "outputs": [],
   "source": [
    "class Adjacente:\n",
    "    '''\n",
    "    Classe responsável por fazer a conexão entre as cidades\n",
    "    '''\n",
    "    def __init__(self, vertice, custo):\n",
    "        self.vertice = vertice\n",
    "        self.custo = custo\n",
    "        self.distancia_real = self.vertice.distancia_objetivo + self.custo"
   ]
  },
  {
   "cell_type": "markdown",
   "metadata": {},
   "source": [
    "# Vetor Ordenado\n",
    "\n",
    "Por fim o Vetor Ordenado também será reutilizado por estar em bom estado de reaproveitamento."
   ]
  },
  {
   "cell_type": "code",
   "execution_count": 19,
   "metadata": {},
   "outputs": [],
   "source": [
    "class VetorOrdenado:\n",
    "    '''\n",
    "    Classe responsável por criar um vetor de ordenação de valores focado na distancia_real das adjacentes\n",
    "    '''\n",
    "    def __init__(self, capacidade):\n",
    "        self.capacidade = capacidade\n",
    "        self.ultima_posicao = -1\n",
    "        self.lista_adjacentes = np.empty(self.capacidade, dtype=object)\n",
    "\n",
    "    def adicionar_valor_vetor(self, adjacente):\n",
    "        if self.ultima_posicao == self.capacidade - 1:\n",
    "            print('Capacidade máxima alcançada.')\n",
    "        else:\n",
    "            posicao = 0\n",
    "            for i in range(self.ultima_posicao + 1):\n",
    "                posicao = i\n",
    "                if self.lista_adjacentes[i].distancia_real > adjacente.distancia_real:\n",
    "                    break\n",
    "                if i == self.ultima_posicao:\n",
    "                    posicao = i + 1\n",
    "\n",
    "            x = self.ultima_posicao\n",
    "            while x >= posicao:\n",
    "                self.lista_adjacentes[x + 1] = self.lista_adjacentes[x]\n",
    "                x -= 1\n",
    "\n",
    "            self.lista_adjacentes[posicao] = adjacente\n",
    "            self.ultima_posicao += 1"
   ]
  },
  {
   "cell_type": "markdown",
   "metadata": {},
   "source": [
    "# Grafo\n",
    "\n",
    "Para a classe da cosntrução do Grafo, será implementado um modelo de criação automática que irá ler um arquivo json e converter ele no Grafo do desagio."
   ]
  },
  {
   "cell_type": "markdown",
   "metadata": {},
   "source": [
    "## Desenvolvimento de automação para criação de Grafo"
   ]
  },
  {
   "cell_type": "code",
   "execution_count": 31,
   "metadata": {},
   "outputs": [
    {
     "name": "stdout",
     "output_type": "stream",
     "text": [
      "{'nome': 'Porto União', 'distancia_linha_reta': 203, 'adjacentes': [{'nome': 'Paulo Frontin', 'distancia_real': 46}, {'nome': 'São Mateus', 'distancia_real': 87}, {'nome': 'Canoinhas', 'distancia_real': 78}]}\n",
      "\n",
      "{'nome': 'Paulo Frontin', 'distancia_linha_reta': 172, 'adjacentes': [{'nome': 'Irati', 'distancia_real': 75}, {'nome': 'Porto União', 'distancia_real': 46}]}\n",
      "\n",
      "{'nome': 'Canoinhas', 'distancia_linha_reta': 141, 'adjacentes': [{'nome': 'Porto União', 'distancia_real': 78}, {'nome': 'Três Barras', 'distancia_real': 12}, {'nome': 'Mafra', 'distancia_real': 66}]}\n",
      "\n",
      "{'nome': 'Três Barras', 'distancia_linha_reta': 131, 'adjacentes': [{'nome': 'São Mateus', 'distancia_real': 43}, {'nome': 'Canoinhas', 'distancia_real': 12}]}\n",
      "\n",
      "{'nome': 'São Mateus', 'distancia_linha_reta': 123, 'adjacentes': [{'nome': 'Irati', 'distancia_real': 57}, {'nome': 'Palmeira', 'distancia_real': 77}, {'nome': 'Lapa', 'distancia_real': 60}, {'nome': 'Três Barras', 'distancia_real': 43}, {'nome': 'Porto União', 'distancia_real': 87}]}\n",
      "\n",
      "{'nome': 'Irati', 'distancia_linha_reta': 139, 'adjacentes': [{'nome': 'Paulo Frontin', 'distancia_real': 75}, {'nome': 'São Mateus', 'distancia_real': 57}, {'nome': 'Palmeira', 'distancia_real': 75}]}\n",
      "\n",
      "{'nome': 'Palmeira', 'distancia_linha_reta': 59, 'adjacentes': [{'nome': 'Irati', 'distancia_real': 75}, {'nome': 'São Mateus', 'distancia_real': 77}, {'nome': 'Campo Largo', 'distancia_real': 55}]}\n",
      "\n",
      "{'nome': 'Mafra', 'distancia_linha_reta': 94, 'adjacentes': [{'nome': 'Canoinhas', 'distancia_real': 66}, {'nome': 'Lapa', 'distancia_real': 57}, {'nome': 'Tijucas do Sul', 'distancia_real': 99}]}\n",
      "\n",
      "{'nome': 'Campo Largo', 'distancia_linha_reta': 27, 'adjacentes': [{'nome': 'Palmeira', 'distancia_real': 55}, {'nome': 'Balsa Nova', 'distancia_real': 22}, {'nome': 'Curitiba', 'distancia_real': 29}]}\n",
      "\n",
      "{'nome': 'Balsa Nova', 'distancia_linha_reta': 41, 'adjacentes': [{'nome': 'Campo Largo', 'distancia_real': 22}, {'nome': 'Curitiba', 'distancia_real': 51}, {'nome': 'Contenda', 'distancia_real': 19}]}\n",
      "\n",
      "{'nome': 'Lapa', 'distancia_linha_reta': 74, 'adjacentes': [{'nome': 'Contenda', 'distancia_real': 26}, {'nome': 'Mafra', 'distancia_real': 57}, {'nome': 'São Mateus', 'distancia_real': 60}]}\n",
      "\n",
      "{'nome': 'Tijucas do Sul', 'distancia_linha_reta': 56, 'adjacentes': [{'nome': 'Mafra', 'distancia_real': 99}, {'nome': 'São José do Pinhais', 'distancia_real': 49}]}\n",
      "\n",
      "{'nome': 'Araucária', 'distancia_linha_reta': 23, 'adjacentes': [{'nome': 'Contenda', 'distancia_real': 18}, {'nome': 'Curitiba', 'distancia_real': 37}]}\n",
      "\n",
      "{'nome': 'São José do Pinhais', 'distancia_linha_reta': 13, 'adjacentes': [{'nome': 'Curitiba', 'distancia_real': 15}, {'nome': 'Tijucas do Sul', 'distancia_real': 49}]}\n",
      "\n",
      "{'nome': 'Contenda', 'distancia_linha_reta': 39, 'adjacentes': [{'nome': 'Lapa', 'distancia_real': 26}, {'nome': 'Balsa Nova', 'distancia_real': 19}, {'nome': 'Araucária', 'distancia_real': 18}]}\n",
      "\n",
      "{'nome': 'Curitiba', 'distancia_linha_reta': 0, 'adjacentes': [{'nome': 'Campo Largo', 'distancia_real': 29}, {'nome': 'Balsa Nova', 'distancia_real': 51}, {'nome': 'Araucária', 'distancia_real': 37}, {'nome': 'São José do Pinhais', 'distancia_real': 15}]}\n",
      "\n"
     ]
    }
   ],
   "source": [
    "# Chamando json do mapa\n",
    "with open('mapa_regiao_curitiba.json', encoding='utf-8') as file:\n",
    "    mapa_regiao_curitiba: List[Mapa] = json.load(file)\n",
    "\n",
    "for cidade in mapa_regiao_curitiba:\n",
    "    print(cidade)\n",
    "    print('')"
   ]
  },
  {
   "cell_type": "code",
   "execution_count": 6,
   "metadata": {},
   "outputs": [],
   "source": [
    "# Definindo classe construtor\n",
    "class Grafo:\n",
    "    def __init__(self, mapa: List[Mapa]):\n",
    "        self.cidades = self.criar_vertices_grafo(mapa)\n",
    "\n",
    "    def adicionar_adjacente_grafo(self, cidade: CidadeAdjacente, vertice: Vertice, grafo: List[Vertice]):\n",
    "            vertice.adiciona_adjacentes(\n",
    "                Adjacente(\n",
    "                    next(x for x in grafo if x.rotulo == cidade['nome']),\n",
    "                    cidade['distancia_real']\n",
    "                )\n",
    "            )\n",
    "            return vertice\n",
    "\n",
    "    def encontrar_cidade_adjacente(self, grafo: List[Vertice], mapa: List[Mapa]):\n",
    "        for vertice in grafo:\n",
    "            cidade = next(x for x in mapa if x['nome'] == vertice.rotulo)\n",
    "            for adjacente in cidade['adjacentes']:\n",
    "                vertice = self.adicionar_adjacente_grafo(\n",
    "                    adjacente, \n",
    "                    vertice, \n",
    "                    grafo\n",
    "                )\n",
    "        return grafo\n",
    "\n",
    "    def criar_vertices_grafo(self, mapa: List[Mapa]):\n",
    "        grafo: List[Vertice] = []\n",
    "        for cidade in mapa:\n",
    "            vertice = Vertice(cidade['nome'], cidade['distancia_linha_reta'])\n",
    "            grafo.append(vertice)\n",
    "        return self.encontrar_cidade_adjacente(grafo, mapa)"
   ]
  },
  {
   "cell_type": "markdown",
   "metadata": {},
   "source": [
    "## Teste de criação de Grafo"
   ]
  },
  {
   "cell_type": "code",
   "execution_count": 26,
   "metadata": {},
   "outputs": [],
   "source": [
    "def mostraDetalhes(cidade: Vertice):\n",
    "    print('--------------------------------------------------')\n",
    "    print(f'Cidade: {cidade.rotulo}')\n",
    "    \n",
    "    cidade.adjacentes.sort(key=lambda x: x.distancia_real, reverse=False)\n",
    "    if cidade.distancia_objetivo > 0:\n",
    "        print(f'Distância Linha Reta: {cidade.distancia_objetivo}')\n",
    "        print('Adjacentes || Dist Real || Dist Linha Reta || Soma(Peso)')\n",
    "        for idx in range(len(cidade.adjacentes)):\n",
    "            print('{}º - {} || {} || {} || {}'.format(\n",
    "                idx+1,\n",
    "                cidade.adjacentes[idx].vertice.rotulo,\n",
    "                cidade.adjacentes[idx].custo,\n",
    "                cidade.adjacentes[idx].vertice.distancia_objetivo,\n",
    "                cidade.adjacentes[idx].distancia_real\n",
    "            ))"
   ]
  },
  {
   "cell_type": "code",
   "execution_count": 27,
   "metadata": {},
   "outputs": [],
   "source": [
    "#Testando funcionamento das classe de criação de grafo\n",
    "grafo = Grafo(mapa_regiao_curitiba)\n",
    "for item in grafo.cidades:\n",
    "    mostraDetalhes(item)"
   ]
  },
  {
   "cell_type": "markdown",
   "metadata": {},
   "source": [
    "# Busca AEstrela"
   ]
  },
  {
   "cell_type": "code",
   "execution_count": 17,
   "metadata": {},
   "outputs": [],
   "source": [
    "# Construção de classe Gulosa\n",
    "class AEstrela:\n",
    "    def __init__(self, objetivo: str):\n",
    "        self.objetivo = objetivo\n",
    "        self.encontrado = False\n",
    "\n",
    "    def buscar(self, atual: Vertice):\n",
    "        mostraDetalhes(atual)\n",
    "        atual.visitado = True\n",
    "        \n",
    "        if atual == self.objetivo:\n",
    "            self.encontrado = True\n",
    "        else:\n",
    "            vetor = VetorOrdenado(len(atual.adjacentes))\n",
    "            for adjacente in atual.adjacentes:\n",
    "                if not adjacente.vertice.visitado:\n",
    "                    adjacente.vertice.visitado = True\n",
    "                    vetor.adicionar_valor_vetor(adjacente)\n",
    "                    \n",
    "            if vetor.lista_adjacentes[0] != None:\n",
    "                self.buscar(vetor.lista_adjacentes[0].vertice)"
   ]
  },
  {
   "cell_type": "code",
   "execution_count": 28,
   "metadata": {},
   "outputs": [
    {
     "name": "stdout",
     "output_type": "stream",
     "text": [
      "--------------------------------------------------\n",
      "Cidade: Porto União\n",
      "Distância Linha Reta: 203\n",
      "Adjacentes || Dist Real || Dist Linha Reta || Soma(Peso)\n",
      "1º - São Mateus || 87 || 123 || 210\n",
      "2º - Paulo Frontin || 46 || 172 || 218\n",
      "3º - Canoinhas || 78 || 141 || 219\n",
      "--------------------------------------------------\n",
      "Cidade: São Mateus\n",
      "Distância Linha Reta: 123\n",
      "Adjacentes || Dist Real || Dist Linha Reta || Soma(Peso)\n",
      "1º - Lapa || 60 || 74 || 134\n",
      "2º - Palmeira || 77 || 59 || 136\n",
      "3º - Três Barras || 43 || 131 || 174\n",
      "4º - Irati || 57 || 139 || 196\n",
      "5º - Porto União || 87 || 203 || 290\n",
      "--------------------------------------------------\n",
      "Cidade: Lapa\n",
      "Distância Linha Reta: 74\n",
      "Adjacentes || Dist Real || Dist Linha Reta || Soma(Peso)\n",
      "1º - Contenda || 26 || 39 || 65\n",
      "2º - Mafra || 57 || 94 || 151\n",
      "3º - São Mateus || 60 || 123 || 183\n",
      "--------------------------------------------------\n",
      "Cidade: Contenda\n",
      "Distância Linha Reta: 39\n",
      "Adjacentes || Dist Real || Dist Linha Reta || Soma(Peso)\n",
      "1º - Araucária || 18 || 23 || 41\n",
      "2º - Balsa Nova || 19 || 41 || 60\n",
      "3º - Lapa || 26 || 74 || 100\n",
      "--------------------------------------------------\n",
      "Cidade: Araucária\n",
      "Distância Linha Reta: 23\n",
      "Adjacentes || Dist Real || Dist Linha Reta || Soma(Peso)\n",
      "1º - Curitiba || 37 || 0 || 37\n",
      "2º - Contenda || 18 || 39 || 57\n",
      "--------------------------------------------------\n",
      "Cidade: Curitiba\n"
     ]
    }
   ],
   "source": [
    "#Testando modelo de Busca Gulosa saindo Porto União até Curitiba\n",
    "buscador = AEstrela(grafo.cidades[-1])\n",
    "buscador.buscar(grafo.cidades[0])"
   ]
  }
 ],
 "metadata": {
  "kernelspec": {
   "display_name": "Python 3.8.8 ('venv': venv)",
   "language": "python",
   "name": "python3"
  },
  "language_info": {
   "codemirror_mode": {
    "name": "ipython",
    "version": 3
   },
   "file_extension": ".py",
   "mimetype": "text/x-python",
   "name": "python",
   "nbconvert_exporter": "python",
   "pygments_lexer": "ipython3",
   "version": "3.8.8"
  },
  "orig_nbformat": 4,
  "vscode": {
   "interpreter": {
    "hash": "a9fc7e913a9420c720a832b72ffcb1890559fffd1c800c5289b2819649fb6686"
   }
  }
 },
 "nbformat": 4,
 "nbformat_minor": 2
}
