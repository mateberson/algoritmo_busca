{
 "cells": [
  {
   "cell_type": "markdown",
   "metadata": {},
   "source": [
    "# Premissa\n",
    "\n",
    "Este desafio visa aplicar os modelos construídos anteriormente em um novo mapa com a finalidade de encontrar um caminho mais curto.\n",
    "\n",
    "## Desvendando a Problemática\n",
    "\n",
    "### Mapa do Desafio\n",
    "![alternative text](./mapa_desafio.png)\n",
    "\n",
    "### Distância em Linha Reta\n",
    "![alternative text](./distancia_linha_reta.png)\n",
    "\n",
    "1) Estado inicial: cidade de Porto União;\n",
    "2) Estado final: cidade de Curitiba;\n",
    "3) Espaço de estados: todas as possíveis caminhos entre Porto União e Curitiba, ex.:\n",
    "> * Porto União >> São Mateus >> Lapa >> Contenda >> Araucária >> Curitiba;\n",
    "> * Porto União >> Canoinhas >> Mafra >> Tijucas do Sul >> São José dos Pinhais >> Curitiba;\n",
    "> * Porto União >> Paulo Frontin >> Irati >> Palmeira >> Campo Largo >> Balsa Nova >> Curitiba;\n",
    "4) Ações de passagem: ir de uma cidade até outra, ex.:\n",
    "> * Porto União >> São Mateus;\n",
    "> * Palmeira >> Campo Largo;\n",
    "> * Lapa >> Contenda;\n",
    "5) Solução: processamento dos caminhos buscando encontrar a distância mais curta;\n"
   ]
  },
  {
   "cell_type": "markdown",
   "metadata": {},
   "source": [
    "# Imports"
   ]
  },
  {
   "cell_type": "code",
   "execution_count": 62,
   "metadata": {},
   "outputs": [],
   "source": [
    "import json\n",
    "import numpy as np\n",
    "from module import Mapa\n",
    "from typing import List"
   ]
  },
  {
   "cell_type": "markdown",
   "metadata": {},
   "source": [
    "# Vértice\n",
    "\n",
    "Para o desenvolvimento deste desafio, será mantido a classe de Vértice construída nos arquivos anteriores;"
   ]
  },
  {
   "cell_type": "code",
   "execution_count": 2,
   "metadata": {},
   "outputs": [],
   "source": [
    "class Vertice:\n",
    "    '''\n",
    "    Classe responsável por criar as cidades\n",
    "    '''\n",
    "    def __init__(self, rotulo, distancia_objetivo):\n",
    "        self.rotulo = rotulo\n",
    "        self.distancia_objetivo = distancia_objetivo\n",
    "        self.visitado = False\n",
    "        self.adjacentes = []\n",
    "\n",
    "    def adiciona_adjacentes(self, adjacente):\n",
    "        self.adjacentes.append(adjacente)\n",
    "\n",
    "    def mostra_adjacentes(self):\n",
    "        for i in self.adjacentes:\n",
    "            print(f'{i.vertice.rotulo}: {i.custo}')"
   ]
  },
  {
   "cell_type": "markdown",
   "metadata": {},
   "source": [
    "# Adjacente\n",
    "\n",
    "O mesmo se aplica a classe adjacente que será reaproveitada nos arquivos anteriores, no caso desta classe optou-se por fazer uso da versão implementada no arquivo aestrela, visto que esta é a versão mais completa"
   ]
  },
  {
   "cell_type": "code",
   "execution_count": 19,
   "metadata": {},
   "outputs": [],
   "source": [
    "class Adjacente:\n",
    "    '''\n",
    "    Classe responsável por fazer a conexão entre as cidades\n",
    "    '''\n",
    "    def __init__(self, vertice, custo):\n",
    "        self.vertice = vertice\n",
    "        self.custo = custo\n",
    "        self.distancia_aestrela = self.vertice.distancia_objetivo + self.custo"
   ]
  },
  {
   "cell_type": "markdown",
   "metadata": {},
   "source": [
    "# Vetor Ordenado\n",
    "\n",
    "Por fim o Vetor Ordenado também será reutilizado por estar em bom estado de reaproveitamento."
   ]
  },
  {
   "cell_type": "code",
   "execution_count": null,
   "metadata": {},
   "outputs": [],
   "source": [
    "class VetorOrdenado:\n",
    "    '''\n",
    "    Classe responsável por criar um vetor de ordenação de valores focado na distancia_aestrela das adjacentes\n",
    "    '''\n",
    "    def __init__(self, capacidade):\n",
    "        self.capacidade = capacidade\n",
    "        self.ultima_posicao = -1\n",
    "        self.lista_adjacentes = np.empty(self.capacidade, dtype=object)\n",
    "\n",
    "    def mostrar_vetor(self):\n",
    "        if self.ultima_posicao == -1:\n",
    "            print('Vetor Vazio')\n",
    "        else:\n",
    "            for i in range(self.ultima_posicao + 1):\n",
    "                print('{} - {} - {} - {} - {}'.format(\n",
    "                    i,\n",
    "                    self.lista_adjacentes[i].vertice.rotulo,\n",
    "                    self.lista_adjacentes[i].custo,\n",
    "                    self.lista_adjacentes[i].vertice.distancia_objetivo,\n",
    "                    self.lista_adjacentes[i].distancia_aestrela\n",
    "                ))\n",
    "\n",
    "    def adicionar_valor_vetor(self, adjacente):\n",
    "        if self.ultima_posicao == self.capacidade - 1:\n",
    "            print('Capacidade máxima alcançada.')\n",
    "        else:\n",
    "            posicao = 0\n",
    "            for i in range(self.ultima_posicao + 1):\n",
    "                posicao = i\n",
    "                if self.lista_adjacentes[i].distancia_aestrela > adjacente.distancia_aestrela:\n",
    "                    break\n",
    "                if i == self.ultima_posicao:\n",
    "                    posicao = i + 1\n",
    "\n",
    "            x = self.ultima_posicao\n",
    "            while x >= posicao:\n",
    "                self.lista_adjacentes[x + 1] = self.lista_adjacentes[x]\n",
    "                x -= 1\n",
    "\n",
    "            self.lista_adjacentes[posicao] = adjacente\n",
    "            self.ultima_posicao += 1"
   ]
  },
  {
   "cell_type": "markdown",
   "metadata": {},
   "source": [
    "# grafo\n",
    "\n",
    "Para a classe da cosntrução do Grafo, será implementado um modelo de criação automática que irá ler um arquivo json e converter ele no Grafo do desagio."
   ]
  },
  {
   "cell_type": "markdown",
   "metadata": {},
   "source": [
    "## Desenvolvimento de automação para criação de Grafo"
   ]
  },
  {
   "cell_type": "code",
   "execution_count": null,
   "metadata": {},
   "outputs": [],
   "source": [
    "# Chamando json do mapa\n",
    "with open('mapa.json', encoding='utf-8') as file:\n",
    "    mapa: List[Mapa] = json.load(file)\n",
    "print(mapa)"
   ]
  },
  {
   "cell_type": "code",
   "execution_count": 63,
   "metadata": {},
   "outputs": [],
   "source": [
    "# Definindo Classes construtora\n",
    "def adicionar_adjacente_grafo(cidade, vertice: Vertice, grafo: List[Vertice]):\n",
    "        vertice.adiciona_adjacentes(\n",
    "            Adjacente(\n",
    "                next(x for x in grafo if x.rotulo == cidade['nome']),\n",
    "                cidade['distancia_real']\n",
    "            )\n",
    "        )\n",
    "        return vertice\n",
    "\n",
    "def encontrar_cidade_adjacente(grafo: List[Vertice]):\n",
    "    for vertice in grafo:\n",
    "        cidade = next(x for x in mapa if x['nome'] == vertice.rotulo)\n",
    "        for adjacente in cidade['adjacentes']:\n",
    "            vertice = adicionar_adjacente_grafo(\n",
    "                adjacente, \n",
    "                vertice, \n",
    "                grafo\n",
    "            )\n",
    "    return grafo\n",
    "\n",
    "def criar_vertices_grafo():\n",
    "    grafo: List[Vertice] = []\n",
    "    for cidade in mapa:\n",
    "        vertice = Vertice(cidade['nome'], cidade['distancia_linha_reta'])\n",
    "        grafo.append(vertice)\n",
    "    return encontrar_cidade_adjacente(grafo)"
   ]
  },
  {
   "cell_type": "code",
   "execution_count": 72,
   "metadata": {},
   "outputs": [
    {
     "name": "stdout",
     "output_type": "stream",
     "text": [
      "--------------------------------------------------\n",
      "Cidade: Porto União\n",
      "Distância Linha Reta: 203\n",
      "Adjacentes: | Dist Real | Dist Linha Reta | Soma |\n",
      "    Paulo Frontin - 46 - 172 - 218\n",
      "    São Mateus - 87 - 123 - 210\n",
      "    Canoinhas - 78 - 141 - 219\n",
      "--------------------------------------------------\n",
      "Cidade: Paulo Frontin\n",
      "Distância Linha Reta: 172\n",
      "Adjacentes: | Dist Real | Dist Linha Reta | Soma |\n",
      "    Irati - 75 - 139 - 214\n",
      "    Porto União - 46 - 203 - 249\n",
      "--------------------------------------------------\n",
      "Cidade: Canoinhas\n",
      "Distância Linha Reta: 141\n",
      "Adjacentes: | Dist Real | Dist Linha Reta | Soma |\n",
      "    Porto União - 78 - 203 - 281\n",
      "    Três Barras - 12 - 131 - 143\n",
      "    Mafra - 66 - 94 - 160\n",
      "--------------------------------------------------\n",
      "Cidade: Três Barras\n",
      "Distância Linha Reta: 131\n",
      "Adjacentes: | Dist Real | Dist Linha Reta | Soma |\n",
      "    São Mateus - 43 - 123 - 166\n",
      "    Canoinhas - 12 - 141 - 153\n",
      "--------------------------------------------------\n",
      "Cidade: São Mateus\n",
      "Distância Linha Reta: 123\n",
      "Adjacentes: | Dist Real | Dist Linha Reta | Soma |\n",
      "    Irati - 57 - 139 - 196\n",
      "    Palmeira - 77 - 59 - 136\n",
      "    Lapa - 60 - 74 - 134\n",
      "    Três Barras - 43 - 131 - 174\n",
      "    Porto União - 87 - 203 - 290\n",
      "--------------------------------------------------\n",
      "Cidade: Irati\n",
      "Distância Linha Reta: 139\n",
      "Adjacentes: | Dist Real | Dist Linha Reta | Soma |\n",
      "    Paulo Frontin - 75 - 172 - 247\n",
      "    São Mateus - 57 - 123 - 180\n",
      "    Palmeira - 75 - 59 - 134\n",
      "--------------------------------------------------\n",
      "Cidade: Curitiba\n",
      "Distância Linha Reta: 0\n",
      "Adjacentes: | Dist Real | Dist Linha Reta | Soma |\n",
      "    Campo Largo - 29 - 27 - 56\n",
      "    Balsa Nova - 51 - 41 - 92\n",
      "    Araucária - 37 - 23 - 60\n",
      "    São José do Pinhais - 15 - 13 - 28\n",
      "--------------------------------------------------\n",
      "Cidade: Palmeira\n",
      "Distância Linha Reta: 59\n",
      "Adjacentes: | Dist Real | Dist Linha Reta | Soma |\n",
      "    Irati - 75 - 139 - 214\n",
      "    São Mateus - 77 - 123 - 200\n",
      "    Campo Largo - 55 - 27 - 82\n",
      "--------------------------------------------------\n",
      "Cidade: Mafra\n",
      "Distância Linha Reta: 94\n",
      "Adjacentes: | Dist Real | Dist Linha Reta | Soma |\n",
      "    Canoinhas - 66 - 141 - 207\n",
      "    Lapa - 57 - 74 - 131\n",
      "    Tijucas do Sul - 99 - 56 - 155\n",
      "--------------------------------------------------\n",
      "Cidade: Campo Largo\n",
      "Distância Linha Reta: 27\n",
      "Adjacentes: | Dist Real | Dist Linha Reta | Soma |\n",
      "    Palmeira - 55 - 59 - 114\n",
      "    Balsa Nova - 22 - 41 - 63\n",
      "    Curitiba - 29 - 0 - 29\n",
      "--------------------------------------------------\n",
      "Cidade: Balsa Nova\n",
      "Distância Linha Reta: 41\n",
      "Adjacentes: | Dist Real | Dist Linha Reta | Soma |\n",
      "    Campo Largo - 22 - 27 - 49\n",
      "    Curitiba - 51 - 0 - 51\n",
      "    Contenda - 19 - 39 - 58\n",
      "--------------------------------------------------\n",
      "Cidade: Lapa\n",
      "Distância Linha Reta: 74\n",
      "Adjacentes: | Dist Real | Dist Linha Reta | Soma |\n",
      "    Contenda - 26 - 39 - 65\n",
      "    Mafra - 57 - 94 - 151\n",
      "    São Mateus - 60 - 123 - 183\n",
      "--------------------------------------------------\n",
      "Cidade: Tijucas do Sul\n",
      "Distância Linha Reta: 56\n",
      "Adjacentes: | Dist Real | Dist Linha Reta | Soma |\n",
      "    Mafra - 99 - 94 - 193\n",
      "    São José do Pinhais - 49 - 13 - 62\n",
      "--------------------------------------------------\n",
      "Cidade: Araucária\n",
      "Distância Linha Reta: 23\n",
      "Adjacentes: | Dist Real | Dist Linha Reta | Soma |\n",
      "    Contenda - 18 - 39 - 57\n",
      "    Curitiba - 37 - 0 - 37\n",
      "--------------------------------------------------\n",
      "Cidade: São José do Pinhais\n",
      "Distância Linha Reta: 13\n",
      "Adjacentes: | Dist Real | Dist Linha Reta | Soma |\n",
      "    Curitiba - 15 - 0 - 15\n",
      "    Tijucas do Sul - 49 - 56 - 105\n",
      "--------------------------------------------------\n",
      "Cidade: Contenda\n",
      "Distância Linha Reta: 39\n",
      "Adjacentes: | Dist Real | Dist Linha Reta | Soma |\n",
      "    Lapa - 26 - 74 - 100\n",
      "    Balsa Nova - 19 - 41 - 60\n",
      "    Araucária - 18 - 23 - 41\n"
     ]
    }
   ],
   "source": [
    "#Testando funcionamento das classe de criação de grafo\n",
    "grafo = criar_vertices_grafo()\n",
    "for item in grafo:\n",
    "    print('--------------------------------------------------')\n",
    "    print(f'Cidade: {item.rotulo}')\n",
    "    print(f'Distância Linha Reta: {item.distancia_objetivo}')\n",
    "    print('Adjacentes: | Dist Real | Dist Linha Reta | Soma |')\n",
    "    for cidade in item.adjacentes:\n",
    "        print('    {} - {} - {} - {}'.format(\n",
    "            cidade.vertice.rotulo,\n",
    "            cidade.custo,\n",
    "            cidade.vertice.distancia_objetivo,\n",
    "            cidade.distancia_aestrela\n",
    "        ))"
   ]
  }
 ],
 "metadata": {
  "kernelspec": {
   "display_name": "Python 3.8.8 ('venv': venv)",
   "language": "python",
   "name": "python3"
  },
  "language_info": {
   "codemirror_mode": {
    "name": "ipython",
    "version": 3
   },
   "file_extension": ".py",
   "mimetype": "text/x-python",
   "name": "python",
   "nbconvert_exporter": "python",
   "pygments_lexer": "ipython3",
   "version": "3.8.8"
  },
  "orig_nbformat": 4,
  "vscode": {
   "interpreter": {
    "hash": "a9fc7e913a9420c720a832b72ffcb1890559fffd1c800c5289b2819649fb6686"
   }
  }
 },
 "nbformat": 4,
 "nbformat_minor": 2
}
