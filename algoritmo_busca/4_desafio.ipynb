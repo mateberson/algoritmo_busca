{
 "cells": [
  {
   "cell_type": "markdown",
   "metadata": {},
   "source": [
    "# Premissa\n",
    "\n",
    "Este desafio visa aplicar os modelos construídos anteriormente em um novo mapa com a finalidade de encontrar um caminho mais curto.\n",
    "\n",
    "## Desvendando a Problemática\n",
    "\n",
    "### Mapa do Desafio\n",
    "![alternative text](./mapa_desafio.png)\n",
    "\n",
    "### Distância em Linha Reta\n",
    "![alternative text](./distancia_linha_reta.png)\n",
    "\n",
    "1) Estado inicial: cidade de Porto União;\n",
    "2) Estado final: cidade de Curitiba;\n",
    "3) Espaço de estados: todas as possíveis caminhos entre Porto União e Curitiba, ex.:\n",
    "> * Porto União >> São Mateus >> Lapa >> Contenda >> Araucária >> Curitiba;\n",
    "> * Porto União >> Canoinhas >> Mafra >> Tijucas do Sul >> São José dos Pinhais >> Curitiba;\n",
    "> * Porto União >> Paulo Frontin >> Irati >> Palmeira >> Campo Largo >> Balsa Nova >> Curitiba;\n",
    "4) Ações de passagem: ir de uma cidade até outra, ex.:\n",
    "> * Porto União >> São Mateus;\n",
    "> * Palmeira >> Campo Largo;\n",
    "> * Lapa >> Contenda;\n",
    "5) Solução: processamento dos caminhos buscando encontrar a distância mais curta;\n"
   ]
  },
  {
   "cell_type": "markdown",
   "metadata": {},
   "source": [
    "# Imports"
   ]
  },
  {
   "cell_type": "code",
   "execution_count": 16,
   "metadata": {},
   "outputs": [],
   "source": [
    "import json\n",
    "import numpy as np\n",
    "from module import Mapa\n",
    "from typing import List"
   ]
  },
  {
   "cell_type": "markdown",
   "metadata": {},
   "source": [
    "# Vértice\n",
    "\n",
    "Para o desenvolvimento deste desafio, será mantido a classe de Vértice construída nos arquivos anteriores;"
   ]
  },
  {
   "cell_type": "code",
   "execution_count": 5,
   "metadata": {},
   "outputs": [],
   "source": [
    "class Vertice:\n",
    "    '''\n",
    "    Classe responsável por criar as cidades\n",
    "    '''\n",
    "    def __init__(self, rotulo, distancia_objetivo):\n",
    "        self.rotulo = rotulo\n",
    "        self.distancia_objetivo = distancia_objetivo\n",
    "        self.visitado = False\n",
    "        self.adjacentes = []\n",
    "\n",
    "    def adiciona_adjacentes(self, adjacente):\n",
    "        self.adjacentes.append(adjacente)\n",
    "\n",
    "    def mostra_adjacentes(self):\n",
    "        for i in self.adjacentes:\n",
    "            print(f'{i.vertice.rotulo}: {i.custo}')"
   ]
  },
  {
   "cell_type": "markdown",
   "metadata": {},
   "source": [
    "# Adjacente\n",
    "\n",
    "O mesmo se aplica a classe adjacente que será reaproveitada nos arquivos anteriores, no caso desta classe optou-se por fazer uso da versão implementada no arquivo aestrela, visto que esta é a versão mais completa"
   ]
  },
  {
   "cell_type": "code",
   "execution_count": null,
   "metadata": {},
   "outputs": [],
   "source": [
    "class Adjacente:\n",
    "    '''\n",
    "    Classe responsável por fazer a conexão entre as cidades\n",
    "    '''\n",
    "    def __init__(self, vertice, custo):\n",
    "        self.vertice = vertice\n",
    "        self.custo = custo\n",
    "        self.distancia_aestrela = self.vertice.distancia_objetivo + self.custo"
   ]
  },
  {
   "cell_type": "markdown",
   "metadata": {},
   "source": [
    "# Vetor Ordenado\n",
    "\n",
    "Por fim o Vetor Ordenado também será reutilizado por estar em bom estado de reaproveitamento."
   ]
  },
  {
   "cell_type": "code",
   "execution_count": null,
   "metadata": {},
   "outputs": [],
   "source": [
    "class VetorOrdenado:\n",
    "    '''\n",
    "    Classe responsável por criar um vetor de ordenação de valores focado na distancia_aestrela das adjacentes\n",
    "    '''\n",
    "    def __init__(self, capacidade):\n",
    "        self.capacidade = capacidade\n",
    "        self.ultima_posicao = -1\n",
    "        self.lista_adjacentes = np.empty(self.capacidade, dtype=object)\n",
    "\n",
    "    def mostrar_vetor(self):\n",
    "        if self.ultima_posicao == -1:\n",
    "            print('Vetor Vazio')\n",
    "        else:\n",
    "            for i in range(self.ultima_posicao + 1):\n",
    "                print('{} - {} - {} - {} - {}'.format(\n",
    "                    i,\n",
    "                    self.lista_adjacentes[i].vertice.rotulo,\n",
    "                    self.lista_adjacentes[i].custo,\n",
    "                    self.lista_adjacentes[i].vertice.distancia_objetivo,\n",
    "                    self.lista_adjacentes[i].distancia_aestrela\n",
    "                ))\n",
    "\n",
    "    def adicionar_valor_vetor(self, adjacente):\n",
    "        if self.ultima_posicao == self.capacidade - 1:\n",
    "            print('Capacidade máxima alcançada.')\n",
    "        else:\n",
    "            posicao = 0\n",
    "            for i in range(self.ultima_posicao + 1):\n",
    "                posicao = i\n",
    "                if self.lista_adjacentes[i].distancia_aestrela > adjacente.distancia_aestrela:\n",
    "                    break\n",
    "                if i == self.ultima_posicao:\n",
    "                    posicao = i + 1\n",
    "\n",
    "            x = self.ultima_posicao\n",
    "            while x >= posicao:\n",
    "                self.lista_adjacentes[x + 1] = self.lista_adjacentes[x]\n",
    "                x -= 1\n",
    "\n",
    "            self.lista_adjacentes[posicao] = adjacente\n",
    "            self.ultima_posicao += 1"
   ]
  },
  {
   "cell_type": "markdown",
   "metadata": {},
   "source": [
    "# grafo\n",
    "\n",
    "Para a classe da cosntrução do Grafo, será implementado um modelo de criação automática que irá ler um arquivo json e converter ele no Grafo do desagio."
   ]
  },
  {
   "cell_type": "markdown",
   "metadata": {},
   "source": [
    "## Desenvolvimento de automação para criação de Grafo"
   ]
  },
  {
   "cell_type": "code",
   "execution_count": null,
   "metadata": {},
   "outputs": [],
   "source": [
    "# Chamando json do mapa\n",
    "with open('mapa.json', encoding='utf-8') as file:\n",
    "    mapa: List[Mapa] = json.load(file)\n",
    "print(mapa)"
   ]
  },
  {
   "cell_type": "code",
   "execution_count": null,
   "metadata": {},
   "outputs": [],
   "source": [
    "# Definindo Classe construtora\n",
    "def cria_grafo():\n",
    "    grafo = []\n",
    "    for cidade in mapa:\n",
    "        vertice = Vertice(cidade.nome, cidade.distancia_linha_reta)\n",
    "        for adjacente in vertice.adjacentes:\n",
    "            rotulo = mapa.vertices\n",
    "            adjacente = Adjacente(cidade)\n",
    "            vertice.adiciona_adjacentes()"
   ]
  }
 ],
 "metadata": {
  "kernelspec": {
   "display_name": "Python 3.8.8 ('venv': venv)",
   "language": "python",
   "name": "python3"
  },
  "language_info": {
   "codemirror_mode": {
    "name": "ipython",
    "version": 3
   },
   "file_extension": ".py",
   "mimetype": "text/x-python",
   "name": "python",
   "nbconvert_exporter": "python",
   "pygments_lexer": "ipython3",
   "version": "3.8.8"
  },
  "orig_nbformat": 4,
  "vscode": {
   "interpreter": {
    "hash": "a9fc7e913a9420c720a832b72ffcb1890559fffd1c800c5289b2819649fb6686"
   }
  }
 },
 "nbformat": 4,
 "nbformat_minor": 2
}
