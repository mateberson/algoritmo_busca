{
 "cells": [
  {
   "cell_type": "markdown",
   "metadata": {},
   "source": [
    "# Premissa\n",
    "\n",
    "Com a problemática definida no arquivo anterior e o mapa construído, nesta etapa será implementado o primeiro modelo de busca inteligente. O algoritmo aplicado será a Busca Gulosa, este modelo fará uso das distâncias em linha reta de cada cidade até a cidade destino que foi implementado no arquivo 'grafo', aplicando a têcnica de heurística para comparar a distância das cidades adjacentes a cidade atual e escolher pela que tiver o menor valor, desta forma o algoritmo escolherá o menor caminho para sair de Arad e chegar até Bucharest.\n",
    "\n",
    "![alternative text](./map.png)"
   ]
  },
  {
   "cell_type": "markdown",
   "metadata": {},
   "source": [
    "# Vertice"
   ]
  },
  {
   "cell_type": "code",
   "execution_count": 1,
   "metadata": {},
   "outputs": [],
   "source": [
    "class Vertice:\n",
    "    '''\n",
    "    Classe responsável por criar as cidades do estudo\n",
    "    '''\n",
    "    def __init__(self, rotulo, distancia_objetivo):\n",
    "        self.rotulo = rotulo\n",
    "        self.distancia_objetivo = distancia_objetivo\n",
    "        self.visitado = False\n",
    "        self.adjacentes = []\n",
    "\n",
    "    def adiciona_adjacentes(self, adjacente):\n",
    "        self.adjacentes.append(adjacente)\n",
    "\n",
    "    def mostra_adjacentes(self):\n",
    "        for i in self.adjacentes:\n",
    "            print(f'{i.vertice.rotulo}: {i.custo}')"
   ]
  },
  {
   "cell_type": "markdown",
   "metadata": {},
   "source": [
    "# Vetor Ordenado"
   ]
  },
  {
   "cell_type": "code",
   "execution_count": 2,
   "metadata": {},
   "outputs": [],
   "source": [
    "import numpy as np\n",
    "\n",
    "\n",
    "class VetorOrdenado:\n",
    "    '''\n",
    "    Classe responsável por criar um vetor de ordenação de valores focado na distancia_objetivo dos vertices\n",
    "    '''\n",
    "    def __init__(self, capacidade):\n",
    "        self.capacidade = capacidade\n",
    "        self.ultima_posicao = -1\n",
    "        self.lista_vertices = np.empty(self.capacidade, dtype=Vertice)\n",
    "\n",
    "    def mostrar_vetor(self):\n",
    "        if self.ultima_posicao == -1:\n",
    "            print('Vetor Vazio')\n",
    "        else:\n",
    "            for i in range(self.ultima_posicao + 1):\n",
    "                print(f'{i} - {self.lista_vertices[i].rotulo} - {self.lista_vertices[i].distancia_objetivo}')\n",
    "\n",
    "    def adicionar_valor_vetor(self, vertice):\n",
    "        if self.ultima_posicao == self.capacidade - 1:\n",
    "            print('Capacidade máxima alcançada.')\n",
    "        else:\n",
    "            posicao = 0\n",
    "            for i in range(self.ultima_posicao + 1):\n",
    "                posicao = i\n",
    "                if self.lista_vertices[i].distancia_objetivo > vertice.distancia_objetivo:\n",
    "                    break\n",
    "                if i == self.ultima_posicao:\n",
    "                    posicao = i + 1\n",
    "\n",
    "            x = self.ultima_posicao\n",
    "            while x >= posicao:\n",
    "                self.lista_vertices[x + 1] = self.lista_vertices[x]\n",
    "                x -= 1\n",
    "\n",
    "            self.lista_vertices[posicao] = vertice\n",
    "            self.ultima_posicao += 1"
   ]
  },
  {
   "cell_type": "markdown",
   "metadata": {},
   "source": [
    "# Grafo"
   ]
  },
  {
   "cell_type": "code",
   "execution_count": 3,
   "metadata": {},
   "outputs": [],
   "source": [
    "class Grafo:\n",
    "    '''\n",
    "    Classe responsável por criar o mapa para o estudo\n",
    "    '''\n",
    "    arad = Vertice('arad', 366)\n",
    "    zerind = Vertice('zerind', 374)\n",
    "    oradea = Vertice('oradea', 380)\n",
    "    sibiu = Vertice('sibiu', 253)\n",
    "    timisoara = Vertice('timisoara', 329)\n",
    "    lugoj = Vertice('lugoj', 244)\n",
    "    mehadia = Vertice('mehadia', 241)\n",
    "    dobreta = Vertice('dobreta', 242)\n",
    "    craiova = Vertice('craiova', 160)\n",
    "    rimnicu = Vertice('rimnicu', 193)\n",
    "    fagaras = Vertice('fagaras', 178)\n",
    "    pitesti = Vertice('pitesti', 98)\n",
    "    bucharest = Vertice('bucharest', 0)\n",
    "    giurgiu = Vertice('giurgiu', 77)\n",
    "    arad.adiciona_adjacentes(sibiu)\n",
    "    arad.adiciona_adjacentes(timisoara)\n",
    "    arad.adiciona_adjacentes(zerind)\n",
    "    zerind.adiciona_adjacentes(arad)\n",
    "    zerind.adiciona_adjacentes(oradea)\n",
    "    oradea.adiciona_adjacentes(zerind)\n",
    "    oradea.adiciona_adjacentes(sibiu)\n",
    "    sibiu.adiciona_adjacentes(oradea)\n",
    "    sibiu.adiciona_adjacentes(arad)\n",
    "    sibiu.adiciona_adjacentes(fagaras)\n",
    "    sibiu.adiciona_adjacentes(rimnicu)\n",
    "    fagaras.adiciona_adjacentes(sibiu)\n",
    "    fagaras.adiciona_adjacentes(bucharest)\n",
    "    timisoara.adiciona_adjacentes(arad)\n",
    "    timisoara.adiciona_adjacentes(lugoj)\n",
    "    lugoj.adiciona_adjacentes(timisoara)\n",
    "    lugoj.adiciona_adjacentes(mehadia)\n",
    "    mehadia.adiciona_adjacentes(lugoj)\n",
    "    mehadia.adiciona_adjacentes(dobreta)\n",
    "    dobreta.adiciona_adjacentes(mehadia)\n",
    "    dobreta.adiciona_adjacentes(craiova)\n",
    "    craiova.adiciona_adjacentes(dobreta)\n",
    "    craiova.adiciona_adjacentes(rimnicu)\n",
    "    craiova.adiciona_adjacentes(pitesti)\n",
    "    rimnicu.adiciona_adjacentes(craiova)\n",
    "    rimnicu.adiciona_adjacentes(pitesti)\n",
    "    rimnicu.adiciona_adjacentes(sibiu)\n",
    "    pitesti.adiciona_adjacentes(craiova)\n",
    "    pitesti.adiciona_adjacentes(rimnicu)\n",
    "    pitesti.adiciona_adjacentes(bucharest)\n",
    "    bucharest.adiciona_adjacentes(fagaras)\n",
    "    bucharest.adiciona_adjacentes(pitesti)\n",
    "    bucharest.adiciona_adjacentes(giurgiu)\n",
    "    giurgiu.adiciona_adjacentes(bucharest)\n",
    "\n",
    "grafo = Grafo()"
   ]
  },
  {
   "cell_type": "markdown",
   "metadata": {},
   "source": [
    "# Busca Gulosa"
   ]
  },
  {
   "cell_type": "code",
   "execution_count": 4,
   "metadata": {},
   "outputs": [],
   "source": [
    "class Gulosa:\n",
    "    def __init__(self, objetivo: Vertice):\n",
    "        self.objetivo = objetivo\n",
    "        self.encontrado = False\n",
    "\n",
    "    def buscar(self, atual:Vertice):\n",
    "        print('--------------')\n",
    "        print(f'Atual: {atual.rotulo}')\n",
    "        atual.visitado = True\n",
    "\n",
    "        if atual == self.objetivo:\n",
    "            self.encontrado = True\n",
    "        else:\n",
    "            vetor_ordenado = VetorOrdenado((len(atual.adjacentes)))\n",
    "            for adjacente in atual.adjacentes:\n",
    "                if not adjacente.visitado:\n",
    "                    adjacente.visitado = True\n",
    "                    vetor_ordenado.adicionar_valor_vetor(adjacente)\n",
    "            vetor_ordenado.mostrar_vetor()\n",
    "            \n",
    "            if vetor_ordenado.lista_vertices[0] != None:\n",
    "                self.buscar(vetor_ordenado.lista_vertices[0])"
   ]
  },
  {
   "cell_type": "markdown",
   "metadata": {},
   "source": [
    "## Testando Busca Gulosa"
   ]
  },
  {
   "cell_type": "code",
   "execution_count": 5,
   "metadata": {},
   "outputs": [
    {
     "name": "stdout",
     "output_type": "stream",
     "text": [
      "--------------\n",
      "Atual: arad\n",
      "0 - sibiu - 253\n",
      "1 - timisoara - 329\n",
      "2 - zerind - 374\n",
      "--------------\n",
      "Atual: sibiu\n",
      "0 - fagaras - 178\n",
      "1 - rimnicu - 193\n",
      "2 - oradea - 380\n",
      "--------------\n",
      "Atual: fagaras\n",
      "0 - bucharest - 0\n",
      "--------------\n",
      "Atual: bucharest\n"
     ]
    }
   ],
   "source": [
    "busca_gulosa = Gulosa(grafo.bucharest)\n",
    "busca_gulosa.buscar(grafo.arad)"
   ]
  }
 ],
 "metadata": {
  "kernelspec": {
   "display_name": "Python 3.8.8 ('venv': venv)",
   "language": "python",
   "name": "python3"
  },
  "language_info": {
   "codemirror_mode": {
    "name": "ipython",
    "version": 3
   },
   "file_extension": ".py",
   "mimetype": "text/x-python",
   "name": "python",
   "nbconvert_exporter": "python",
   "pygments_lexer": "ipython3",
   "version": "3.8.8"
  },
  "orig_nbformat": 4,
  "vscode": {
   "interpreter": {
    "hash": "a9fc7e913a9420c720a832b72ffcb1890559fffd1c800c5289b2819649fb6686"
   }
  }
 },
 "nbformat": 4,
 "nbformat_minor": 2
}
